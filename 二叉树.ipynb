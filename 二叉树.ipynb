{
 "cells": [
  {
   "cell_type": "markdown",
   "metadata": {},
   "source": [
    "# Leetcode刷题笔记之: 二叉树"
   ]
  },
  {
   "cell_type": "code",
   "execution_count": null,
   "metadata": {},
   "outputs": [],
   "source": [
    "# Definition for a binary tree node.\n",
    "class TreeNode:\n",
    "    def __init__(self, val=0, left=None, right=None):\n",
    "        self.val = val\n",
    "        self.left = left\n",
    "        self.right = right"
   ]
  },
  {
   "cell_type": "markdown",
   "metadata": {},
   "source": [
    "## 1.深度遍历\n",
    "三种深度遍历方式的递归与迭代方式都需要掌握"
   ]
  },
  {
   "cell_type": "markdown",
   "metadata": {},
   "source": [
    "### 1.1 前序遍历\n",
    "前序遍历的读取顺序为 中左右，即先读取根节点，再读取左子树，最后读取右子树"
   ]
  },
  {
   "cell_type": "markdown",
   "metadata": {},
   "source": [
    "对于前序遍历的递归实现很简单，仅仅只需要按照中左右的顺序将递归结果拼接起来即可，注意root为空的情况，此时应该输出空值"
   ]
  },
  {
   "cell_type": "code",
   "execution_count": null,
   "metadata": {},
   "outputs": [],
   "source": [
    "# 前序遍历递归\n",
    "class Solution:\n",
    "    def preorderTraversal(self, root: TreeNode) -> List[int]:\n",
    "        result = []\n",
    "        # 如果不是结点，直接返回空列表\n",
    "        if root:\n",
    "            # 如果是结点，先读根节点\n",
    "            result.append(root.val)\n",
    "            # 再读左子树\n",
    "            if root.left:\n",
    "                result += self.preorderTraversal(root.left)\n",
    "            # 再读右子树\n",
    "            if root.right:\n",
    "                result += self.preorderTraversal(root.right)\n",
    "        return result"
   ]
  },
  {
   "cell_type": "markdown",
   "metadata": {},
   "source": [
    "对于迭代的实现，需要借助栈(stack)来实现。栈是一种先进后出的结构，具体在python中的实现便是对list的append()操作(在尾部添加)和pop()操作(弹出尾部元素)。\n",
    "\n",
    "首先维护一个result列表，一个栈，初始元素是根节点。不断弹出栈的尾部元素，将其作为结果输出。然后将这个弹出的元素的右节点和左节点分别放入栈中。为什么这么设置？因为栈是先入后出，所以这样便可以保证下一次循环首先弹出的是左节点（子树），左边读完然后才是右子树，以此实现前序遍历的”中左右“（第一个弹出的就是根节点）"
   ]
  },
  {
   "cell_type": "code",
   "execution_count": null,
   "metadata": {},
   "outputs": [],
   "source": [
    "# 前序遍历迭代\n",
    "class Solution:\n",
    "    def preorderTraversal(self, root: TreeNode) -> List[int]:\n",
    "        if not root:\n",
    "            return []\n",
    "        result = []\n",
    "        stack = [root]\n",
    "        # 当stack不为空\n",
    "        while stack:\n",
    "            # 弹出尾部元素\n",
    "            cur = stack.pop()\n",
    "            # 尾部元素输出\n",
    "            result.append(cur.val)\n",
    "            # 按照先右再左的原则将当前元素的子节点压入栈\n",
    "            if cur.right:\n",
    "                stack.append(cur.right)\n",
    "            if cur.left:\n",
    "                stack.append(cur.left)\n",
    "        return result"
   ]
  },
  {
   "cell_type": "markdown",
   "metadata": {},
   "source": [
    "### 1.2 中序遍历\n",
    "中序遍历的读取顺序为 左中右，即先读取左子树，再读取根节点，最后读取右子树"
   ]
  },
  {
   "cell_type": "markdown",
   "metadata": {},
   "source": [
    "同样的道理，对于递归的解法只需要将结果拼接就好"
   ]
  },
  {
   "cell_type": "code",
   "execution_count": null,
   "metadata": {},
   "outputs": [],
   "source": [
    "# 中序遍历递归\n",
    "class Solution:\n",
    "    def inorderTraversal(self, root: TreeNode) -> List[int]:\n",
    "        # 递归法\n",
    "        if not root:\n",
    "            return []\n",
    "        return self.inorderTraversal(root.left) + [root.val] +self.inorderTraversal(root.right)"
   ]
  },
  {
   "cell_type": "markdown",
   "metadata": {},
   "source": [
    "中序遍历的迭代解法跟前序有些不同。中序遍历需要用到指针。\n",
    "首先指针指向根节点，从根节点到最左边叶结点路径上所有的点填充进栈。\n",
    "然后弹出栈的尾部元素（首先是最左侧叶结点），然后输出\n",
    "弹出后指针指向弹出结点的右节点。"
   ]
  },
  {
   "cell_type": "code",
   "execution_count": null,
   "metadata": {},
   "outputs": [],
   "source": [
    "# 中序遍历迭代\n",
    "class Solution:\n",
    "    def inorderTraversal(self, root: TreeNode) -> List[int]:\n",
    "        # 迭代法\n",
    "        if not root:\n",
    "            return []\n",
    "        result= []\n",
    "        stack = []\n",
    "        cur = root\n",
    "        # 当stack清空，root也读完后停止\n",
    "        while stack or cur:\n",
    "            # 填充stack直至叶节点\n",
    "            while cur:\n",
    "                stack.append(cur)\n",
    "                cur = cur.left\n",
    "            # stack顶层pop出为输出结果\n",
    "            cur = stack.pop()\n",
    "            result.append(cur.val)\n",
    "            # 进行右子树\n",
    "            cur = cur.right\n",
    "        return result"
   ]
  },
  {
   "cell_type": "markdown",
   "metadata": {},
   "source": [
    "### 1.3 后序遍历\n",
    "后序遍历的读取顺序为 左右中，即先读取左子树，再读取右子树，最后读取根节点"
   ]
  },
  {
   "cell_type": "code",
   "execution_count": null,
   "metadata": {},
   "outputs": [],
   "source": [
    "# 后序遍历递归\n",
    "class Solution:\n",
    "    def postorderTraversal(self, root: TreeNode) -> List[int]:\n",
    "        if not root:\n",
    "            return []\n",
    "        return self.postorderTraversal(root.left) + self.postorderTraversal(root.right) + [root.val]"
   ]
  },
  {
   "cell_type": "markdown",
   "metadata": {},
   "source": [
    "后序遍历其实写法上跟前序遍历几乎一样。\n",
    "同样首先维护一个result列表，一个栈，初始元素是根节点。不断弹出栈的尾部元素，将其作为结果输出。然后将这个弹出的元素的左节点和右节点分别放入栈（跟前序正好相反）,此时便可以注意到输出的结果顺序（中右左），最后输出是将结果反向便可以到”左右中“的输出"
   ]
  },
  {
   "cell_type": "code",
   "execution_count": null,
   "metadata": {},
   "outputs": [],
   "source": [
    "# 后序遍历迭代\n",
    "class Solution:\n",
    "    def postorderTraversal(self, root: TreeNode) -> List[int]:\n",
    "        if not root:\n",
    "            return []\n",
    "        result = []\n",
    "        stack = [root]\n",
    "\n",
    "        while stack:\n",
    "            cur = stack.pop()\n",
    "            if cur.left:\n",
    "                stack.append(cur.left)\n",
    "            if cur.right:\n",
    "                stack.append(cur.right)\n",
    "            result.append(cur.val)\n",
    "        return result[::-1]"
   ]
  },
  {
   "cell_type": "markdown",
   "metadata": {},
   "source": [
    "## 2. 广度遍历"
   ]
  },
  {
   "cell_type": "code",
   "execution_count": null,
   "metadata": {},
   "outputs": [],
   "source": [
    "# 层次遍历\n",
    "class Solution:\n",
    "    def levelOrder(self, root: TreeNode) -> List[List[int]]:\n",
    "        if not root:\n",
    "            return []\n",
    "        result = []\n",
    "        queue = [root]\n",
    "        while queue:\n",
    "            temp_res = []\n",
    "            temp_que = []\n",
    "            while queue:\n",
    "                temp = queue.pop(0)\n",
    "                temp_res.append(temp.val)\n",
    "                if temp.left:\n",
    "                    temp_que.append(temp.left)\n",
    "                if temp.right:\n",
    "                    temp_que.append(temp.right)\n",
    "            queue = temp_que\n",
    "            result.append(temp_res)\n",
    "        return result"
   ]
  },
  {
   "cell_type": "markdown",
   "metadata": {},
   "source": [
    "## 3.利用递归解决的问题 （待更新）"
   ]
  },
  {
   "cell_type": "code",
   "execution_count": null,
   "metadata": {},
   "outputs": [],
   "source": [
    "# 104. 二叉树的最大深度\n",
    "class Solution:\n",
    "    def maxDepth(self, root: TreeNode) -> int:\n",
    "        if not root:\n",
    "            return 0\n",
    "        elif not root.left and not root.right:\n",
    "            return 1\n",
    "        else:\n",
    "            leftdepth = self.maxDepth(root.left)\n",
    "            rightdepth = self.maxDepth(root.right)\n",
    "            if leftdepth > rightdepth:\n",
    "                return leftdepth+1\n",
    "            else:\n",
    "                return rightdepth+1"
   ]
  },
  {
   "cell_type": "code",
   "execution_count": null,
   "metadata": {},
   "outputs": [],
   "source": [
    "# 110. 平衡二叉树\n",
    "class Solution:\n",
    "    def isBalanced(self, root: TreeNode) -> bool:\n",
    "        result = maxDepth(root)\n",
    "        return result != -1\n",
    "        \n",
    "def maxDepth(root):\n",
    "    if not root:\n",
    "        return 0\n",
    "    else:\n",
    "        ldepth = maxDepth(root.left)\n",
    "        if ldepth == -1:\n",
    "            return -1\n",
    "        rdepth = maxDepth(root.right)\n",
    "        if rdepth == -1:\n",
    "            return -1\n",
    "\n",
    "        c = ldepth - rdepth\n",
    "        if abs(c) <= 1:\n",
    "            return max(ldepth, rdepth) + 1\n",
    "        else:\n",
    "            # -1 代表不平衡\n",
    "            return -1\n"
   ]
  },
  {
   "cell_type": "code",
   "execution_count": null,
   "metadata": {},
   "outputs": [],
   "source": []
  },
  {
   "cell_type": "code",
   "execution_count": null,
   "metadata": {},
   "outputs": [],
   "source": []
  }
 ],
 "metadata": {
  "kernelspec": {
   "display_name": "Python 3",
   "language": "python",
   "name": "python3"
  },
  "language_info": {
   "codemirror_mode": {
    "name": "ipython",
    "version": 3
   },
   "file_extension": ".py",
   "mimetype": "text/x-python",
   "name": "python",
   "nbconvert_exporter": "python",
   "pygments_lexer": "ipython3",
   "version": "3.7.1"
  }
 },
 "nbformat": 4,
 "nbformat_minor": 4
}
