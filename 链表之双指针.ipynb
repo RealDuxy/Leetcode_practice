{
 "cells": [
  {
   "cell_type": "markdown",
   "metadata": {},
   "source": [
    "# 链表的双指针技巧"
   ]
  },
  {
   "cell_type": "markdown",
   "metadata": {},
   "source": [
    "141. 环形链表 I    \n",
    "单链表中的双指针技巧通常是快慢指针。即设置一快一慢的指针。    \n",
    "对于此题，判断链表中是否有环。我们设置快慢指针，如果有环，我们发现快指针会首先进入环的循环，然后迟早与慢指针相遇。如果无欢，快指针则会在与慢指针相遇前便到达尾结点。    \n",
    "计算复杂度: O(N)    \n",
    "空间复杂度: O(1)"
   ]
  },
  {
   "cell_type": "code",
   "execution_count": null,
   "metadata": {},
   "outputs": [],
   "source": [
    "class Solution:\n",
    "    def hasCycle(self, head: ListNode) -> bool:\n",
    "        if not head or not head.next:\n",
    "            return False\n",
    "        # 设置快慢指针\n",
    "        slow = head\n",
    "        fast = head.next\n",
    "        # 让慢指针追逐快指针直至相遇或者快指针慢指针到头\n",
    "        while fast:\n",
    "            # 相遇\n",
    "            if slow == fast:\n",
    "                return True\n",
    "            # 到头\n",
    "            if not fast.next:\n",
    "                return False\n",
    "            # 指针前移\n",
    "            slow = slow.next\n",
    "            fast = fast.next.next\n",
    "        return False"
   ]
  },
  {
   "cell_type": "markdown",
   "metadata": {},
   "source": [
    "142. 环形链表 II   \n",
    "这一题与上一题不同的点在于，我们不仅需要找到图中是否有环，还需要找到确切的分叉点。上一题中我们知道只要有环，快慢指针就一定会相遇，但是相遇点却不一定是分叉点，那我们可以尝试计算一下分叉点的位置。    \n",
    "假设每次循环slow指针走一步，fast走两步,设链表从开头到分叉点的距离为a，环的长度为b。那第一次相遇时,fast指针一定是比slow多走了n个环的长度的。所以我们有:    \n",
    "$$fast = 2\\times slow \\\\ fast = slow + nb \\\\ n = 0,1,2,3...$$\n",
    "即 $fast = 2nb,   slow = nb$\n",
    "   \n",
    "那我们就可以将fast指回head，并且以slow一样的速度前进，最终相遇时两者:    \n",
    "$$fast = a\\\\ slow = nb + a$$\n",
    "就可以很方便得出a的长度，即环的分叉口  "
   ]
  },
  {
   "cell_type": "code",
   "execution_count": null,
   "metadata": {},
   "outputs": [],
   "source": [
    "class Solution:\n",
    "    def detectCycle(self, head: ListNode) -> ListNode:\n",
    "        if not head or not head.next:\n",
    "            return \n",
    "        # 快慢指针直到第一次相遇\n",
    "        slow, fast = head, head\n",
    "        while True:\n",
    "            # 如果陷入末尾则无环\n",
    "            if not fast or not fast.next:\n",
    "                return \n",
    "            # fast 走两步，slow 走一步\n",
    "            slow = slow.next\n",
    "            fast = fast.next.next\n",
    "            if slow == fast:\n",
    "                break\n",
    "        # 第一次相遇后，slow走了nb，fast走了a + nb\n",
    "        # fast置于head,每次走一步，经过a步便可以与slow相遇与交点\n",
    "        fast = head\n",
    "        while slow != fast:\n",
    "            fast = fast.next\n",
    "            slow = slow.next\n",
    "        return fast"
   ]
  },
  {
   "cell_type": "markdown",
   "metadata": {},
   "source": [
    "160. 相交链表    \n",
    "给定两个长短不一的链表，他们有着共同的尾部，我们需要求尾部的起点，即他们的交点。    \n",
    "首先很明显，我们仍然使用双指针技巧，每个链表都被交点分成了两个部分，我们不妨设第一个链表长度为a + c，第二个为 b + c，c是尾部的长度。    \n",
    "判断是否是交点的条件便是上下指针第一次重合，但是如果都从头出发，除非a == b，不然由于从头到交点的路程不一样，他们只会先后到达交点。所以我们需要使得上下两个指针的起点到交点的距离相等。\n",
    "所以思路明确，假设 a > b，我们可以让a的指针向前进 （b-a）步，以此作为起点，这样他们便可以前进相遇在交点了。"
   ]
  },
  {
   "cell_type": "code",
   "execution_count": null,
   "metadata": {},
   "outputs": [],
   "source": [
    "class Solution:\n",
    "    def getIntersectionNode(self, headA: ListNode, headB: ListNode) -> ListNode:\n",
    "        if not headA or not headB:\n",
    "            return \n",
    "        # 首先计算两个链表的长度 a + c , b + c\n",
    "        count_a = 0\n",
    "        count_b = 0\n",
    "        cur_a = headA\n",
    "        cur_b = headB\n",
    "        while cur_a.next or cur_b.next:\n",
    "            if cur_a.next:\n",
    "                cur_a = cur_a.next\n",
    "                count_a += 1\n",
    "            if cur_b.next:\n",
    "                cur_b = cur_b.next\n",
    "                count_b += 1\n",
    "        \n",
    "\n",
    "        # 更长的那一条链表的指针先行\n",
    "        gap = count_a - count_b\n",
    "        cur_a = headA\n",
    "        cur_b = headB\n",
    "        if gap <= 0:\n",
    "            for _ in range(-gap):\n",
    "                cur_b = cur_b.next\n",
    "        else:\n",
    "            for _ in range(gap):\n",
    "                cur_a = cur_a.next\n",
    "        \n",
    "        # 起点相同,最终相遇在交点，如果未相遇，则两条链表一定没有相交\n",
    "        while cur_a and cur_b:\n",
    "            if cur_a == cur_b:\n",
    "                return cur_a\n",
    "            cur_a = cur_a.next\n",
    "            cur_b = cur_b.next\n",
    "        return"
   ]
  },
  {
   "cell_type": "markdown",
   "metadata": {},
   "source": [
    "19. 删除链表的倒数第N个节点    \n",
    "依然是双指针，设置一前一后的指针，右边的指针触底时，左边的指针的next便是我们要删除的结点"
   ]
  },
  {
   "cell_type": "code",
   "execution_count": null,
   "metadata": {},
   "outputs": [],
   "source": [
    "class Solution:\n",
    "    def removeNthFromEnd(self, head: ListNode, n: int) -> ListNode:\n",
    "        if not head:\n",
    "            return\n",
    "        # 设置双指针，left起始位置为head, right起始位置为left后n位\n",
    "        dummy = ListNode(0, head)\n",
    "        left = dummy\n",
    "        right = head\n",
    "        for _ in range(n-1):\n",
    "            right = right.next\n",
    "        # 向右直至right触底\n",
    "        while right.next:\n",
    "            left = left.next\n",
    "            right = right.next\n",
    "        # 删除倒数第n个点\n",
    "        # left即倒数第n+1个点，其next指向倒数第n-1个点\n",
    "        left.next = left.next.next\n",
    "        return dummy.next"
   ]
  },
  {
   "cell_type": "markdown",
   "metadata": {},
   "source": [
    "## 双指针总结\n",
    "1. 调用next字段之前，一定要检查结点是否为空    \n",
    "2. 循环的结束条件一定要明确"
   ]
  }
 ],
 "metadata": {
  "kernelspec": {
   "display_name": "Python 3",
   "language": "python",
   "name": "python3"
  },
  "language_info": {
   "codemirror_mode": {
    "name": "ipython",
    "version": 3
   },
   "file_extension": ".py",
   "mimetype": "text/x-python",
   "name": "python",
   "nbconvert_exporter": "python",
   "pygments_lexer": "ipython3",
   "version": "3.7.1"
  }
 },
 "nbformat": 4,
 "nbformat_minor": 4
}
