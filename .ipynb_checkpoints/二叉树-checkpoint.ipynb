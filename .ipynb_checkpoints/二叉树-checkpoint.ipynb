{
 "cells": [
  {
   "cell_type": "markdown",
   "metadata": {},
   "source": [
    "# Leetcode刷题笔记之: 二叉树"
   ]
  },
  {
   "cell_type": "code",
   "execution_count": null,
   "metadata": {},
   "outputs": [],
   "source": [
    "# Definition for a binary tree node.\n",
    "class TreeNode:\n",
    "    def __init__(self, val=0, left=None, right=None):\n",
    "        self.val = val\n",
    "        self.left = left\n",
    "        self.right = right"
   ]
  },
  {
   "cell_type": "markdown",
   "metadata": {},
   "source": [
    "## 1.深度遍历\n",
    "三种深度遍历方式的递归与迭代方式都需要掌握"
   ]
  },
  {
   "cell_type": "markdown",
   "metadata": {},
   "source": [
    "### 1.1 前序遍历\n",
    "前序遍历的读取顺序为 中左右，即先读取根节点，再读取左子树，最后读取右子树"
   ]
  },
  {
   "cell_type": "markdown",
   "metadata": {},
   "source": [
    "对于前序遍历的递归实现很简单，仅仅只需要按照中左右的顺序将递归结果拼接起来即可，注意root为空的情况，此时应该输出空值"
   ]
  },
  {
   "cell_type": "code",
   "execution_count": null,
   "metadata": {},
   "outputs": [],
   "source": [
    "# 前序遍历递归\n",
    "class Solution:\n",
    "    def preorderTraversal(self, root: TreeNode) -> List[int]:\n",
    "        result = []\n",
    "        # 如果不是结点，直接返回空列表\n",
    "        if root:\n",
    "            # 如果是结点，先读根节点\n",
    "            result.append(root.val)\n",
    "            # 再读左子树\n",
    "            if root.left:\n",
    "                result += self.preorderTraversal(root.left)\n",
    "            # 再读右子树\n",
    "            if root.right:\n",
    "                result += self.preorderTraversal(root.right)\n",
    "        return result"
   ]
  },
  {
   "cell_type": "markdown",
   "metadata": {},
   "source": [
    "对于迭代的实现，需要借助栈(stack)来实现。栈是一种先进后出的结构，具体在python中的实现便是对list的append()操作(在尾部添加)和pop()操作(弹出尾部元素)。\n",
    "\n",
    "首先维护一个result列表，一个栈，初始元素是根节点。不断弹出栈的尾部元素，将其作为结果输出。然后将这个弹出的元素的右节点和左节点分别放入栈中。为什么这么设置？因为栈是先入后出，所以这样便可以保证下一次循环首先弹出的是左节点（子树），左边读完然后才是右子树，以此实现前序遍历的”中左右“（第一个弹出的就是根节点）"
   ]
  },
  {
   "cell_type": "code",
   "execution_count": null,
   "metadata": {},
   "outputs": [],
   "source": [
    "# 前序遍历迭代\n",
    "class Solution:\n",
    "    def preorderTraversal(self, root: TreeNode) -> List[int]:\n",
    "        if not root:\n",
    "            return []\n",
    "        result = []\n",
    "        stack = [root]\n",
    "        # 当stack不为空\n",
    "        while stack:\n",
    "            # 弹出尾部元素\n",
    "            cur = stack.pop()\n",
    "            # 尾部元素输出\n",
    "            result.append(cur.val)\n",
    "            # 按照先右再左的原则将当前元素的子节点压入栈\n",
    "            if cur.right:\n",
    "                stack.append(cur.right)\n",
    "            if cur.left:\n",
    "                stack.append(cur.left)\n",
    "        return result"
   ]
  },
  {
   "cell_type": "markdown",
   "metadata": {},
   "source": [
    "### 1.2 中序遍历\n",
    "中序遍历的读取顺序为 左中右，即先读取左子树，再读取根节点，最后读取右子树"
   ]
  },
  {
   "cell_type": "markdown",
   "metadata": {},
   "source": [
    "同样的道理，对于递归的解法只需要将结果拼接就好"
   ]
  },
  {
   "cell_type": "code",
   "execution_count": null,
   "metadata": {},
   "outputs": [],
   "source": [
    "# 中序遍历递归\n",
    "class Solution:\n",
    "    def inorderTraversal(self, root: TreeNode) -> List[int]:\n",
    "        # 递归法\n",
    "        if not root:\n",
    "            return []\n",
    "        return self.inorderTraversal(root.left) + [root.val] +self.inorderTraversal(root.right)"
   ]
  },
  {
   "cell_type": "markdown",
   "metadata": {},
   "source": [
    "中序遍历的迭代解法跟前序有些不同。中序遍历需要用到指针。\n",
    "首先指针指向根节点，从根节点到最左边叶结点路径上所有的点填充进栈。\n",
    "然后弹出栈的尾部元素（首先是最左侧叶结点），然后输出\n",
    "弹出后指针指向弹出结点的右节点。"
   ]
  },
  {
   "cell_type": "code",
   "execution_count": null,
   "metadata": {},
   "outputs": [],
   "source": [
    "# 中序遍历迭代\n",
    "class Solution:\n",
    "    def inorderTraversal(self, root: TreeNode) -> List[int]:\n",
    "        # 迭代法\n",
    "        if not root:\n",
    "            return []\n",
    "        result= []\n",
    "        stack = []\n",
    "        cur = root\n",
    "        # 当stack清空，root也读完后停止\n",
    "        while stack or cur:\n",
    "            # 填充stack直至叶节点\n",
    "            while cur:\n",
    "                stack.append(cur)\n",
    "                cur = cur.left\n",
    "            # stack顶层pop出为输出结果\n",
    "            cur = stack.pop()\n",
    "            result.append(cur.val)\n",
    "            # 进行右子树\n",
    "            cur = cur.right\n",
    "        return result"
   ]
  },
  {
   "cell_type": "markdown",
   "metadata": {},
   "source": [
    "### 1.3 后序遍历\n",
    "后序遍历的读取顺序为 左右中，即先读取左子树，再读取右子树，最后读取根节点"
   ]
  },
  {
   "cell_type": "code",
   "execution_count": null,
   "metadata": {},
   "outputs": [],
   "source": [
    "# 后序遍历递归\n",
    "class Solution:\n",
    "    def postorderTraversal(self, root: TreeNode) -> List[int]:\n",
    "        if not root:\n",
    "            return []\n",
    "        return self.postorderTraversal(root.left) + self.postorderTraversal(root.right) + [root.val]"
   ]
  },
  {
   "cell_type": "markdown",
   "metadata": {},
   "source": [
    "后序遍历其实写法上跟前序遍历几乎一样。\n",
    "同样首先维护一个result列表，一个栈，初始元素是根节点。不断弹出栈的尾部元素，将其作为结果输出。然后将这个弹出的元素的左节点和右节点分别放入栈（跟前序正好相反）,此时便可以注意到输出的结果顺序（中右左），最后输出是将结果反向便可以到”左右中“的输出"
   ]
  },
  {
   "cell_type": "code",
   "execution_count": null,
   "metadata": {},
   "outputs": [],
   "source": [
    "# 后序遍历迭代\n",
    "class Solution:\n",
    "    def postorderTraversal(self, root: TreeNode) -> List[int]:\n",
    "        if not root:\n",
    "            return []\n",
    "        result = []\n",
    "        stack = [root]\n",
    "\n",
    "        while stack:\n",
    "            cur = stack.pop()\n",
    "            if cur.left:\n",
    "                stack.append(cur.left)\n",
    "            if cur.right:\n",
    "                stack.append(cur.right)\n",
    "            result.append(cur.val)\n",
    "        return result[::-1]"
   ]
  },
  {
   "cell_type": "markdown",
   "metadata": {},
   "source": [
    "## 2. 广度遍历"
   ]
  },
  {
   "cell_type": "code",
   "execution_count": null,
   "metadata": {},
   "outputs": [],
   "source": [
    "# 层次遍历\n",
    "class Solution:\n",
    "    def levelOrder(self, root: TreeNode) -> List[List[int]]:\n",
    "        if not root:\n",
    "            return []\n",
    "        result = []\n",
    "        queue = [root]\n",
    "        while queue:\n",
    "            # 构建某一层的暂时result和queue\n",
    "            # 不选择利用append的原因是其复杂度是O(n)，若节点过多则很慢\n",
    "            # 而重新构建新queue会更快，因为最多只有一层的结点\n",
    "            temp_res = []\n",
    "            temp_que = []\n",
    "            while queue:\n",
    "                # 针对每一个pop出的结点，将值计入result中，并且将其结点推入queue中\n",
    "                temp = queue.pop(0)\n",
    "                temp_res.append(temp.val)\n",
    "                if temp.left:\n",
    "                    temp_que.append(temp.left)\n",
    "                if temp.right:\n",
    "                    temp_que.append(temp.right)\n",
    "            queue = temp_que\n",
    "            result.append(temp_res)\n",
    "        return result"
   ]
  },
  {
   "cell_type": "markdown",
   "metadata": {},
   "source": [
    "## 3.利用递归解决的问题"
   ]
  },
  {
   "cell_type": "markdown",
   "metadata": {},
   "source": [
    "104. 二叉树的最大深度"
   ]
  },
  {
   "cell_type": "code",
   "execution_count": null,
   "metadata": {},
   "outputs": [],
   "source": [
    "class Solution:\n",
    "    def maxDepth(self, root: TreeNode) -> int:\n",
    "        if not root:\n",
    "            return 0\n",
    "        elif not root.left and not root.right:\n",
    "            return 1\n",
    "        else:\n",
    "            leftdepth = self.maxDepth(root.left)\n",
    "            rightdepth = self.maxDepth(root.right)\n",
    "            if leftdepth > rightdepth:\n",
    "                return leftdepth+1\n",
    "            else:\n",
    "                return rightdepth+1"
   ]
  },
  {
   "cell_type": "markdown",
   "metadata": {},
   "source": [
    "110. 平衡二叉树"
   ]
  },
  {
   "cell_type": "code",
   "execution_count": null,
   "metadata": {},
   "outputs": [],
   "source": [
    "class Solution:\n",
    "    def isBalanced(self, root: TreeNode) -> bool:\n",
    "        result = maxDepth(root)\n",
    "        return result != -1\n",
    "# 改进版maxdeopth， 如果平衡，则返回深度，不平衡返回-1\n",
    "def maxDepth(root):\n",
    "    if not root:\n",
    "        return 0\n",
    "    else:\n",
    "        ldepth = maxDepth(root.left)\n",
    "        if ldepth == -1:\n",
    "            return -1\n",
    "        rdepth = maxDepth(root.right)\n",
    "        if rdepth == -1:\n",
    "            return -1\n",
    "\n",
    "        c = ldepth - rdepth\n",
    "        if abs(c) <= 1:\n",
    "            return max(ldepth, rdepth) + 1\n",
    "        else:\n",
    "            # -1 代表不平衡\n",
    "            return -1"
   ]
  },
  {
   "cell_type": "markdown",
   "metadata": {},
   "source": [
    "101. 对称二叉树    \n",
    "判断左子树和右子树是否成镜像：    \n",
    "左子树的右子树和右子树的左子树成镜像    \n",
    "左子树的左子树和右子树的左子树成镜像"
   ]
  },
  {
   "cell_type": "code",
   "execution_count": null,
   "metadata": {},
   "outputs": [],
   "source": [
    "class Solution:\n",
    "    def isSymmetric(self, root: TreeNode) -> bool:\n",
    "        if root:\n",
    "            return isMirror(root.left, root.right)\n",
    "        else:\n",
    "            return True\n",
    "\n",
    "def isMirror(root1, root2):\n",
    "    if not root1 and not root2:\n",
    "        return True\n",
    "    if not root1 or not root2:\n",
    "        return False\n",
    "    if root1.val != root2.val:\n",
    "        return False\n",
    "    return isMirror(root1.left, root2.right) and isMirror(root1.right, root2.left)\n",
    "\n",
    "        "
   ]
  },
  {
   "cell_type": "markdown",
   "metadata": {},
   "source": [
    "112. 路径总和"
   ]
  },
  {
   "cell_type": "code",
   "execution_count": null,
   "metadata": {},
   "outputs": [],
   "source": [
    "# 递归\n",
    "class Solution:\n",
    "    def hasPathSum(self, root: TreeNode, sum: int) -> bool:\n",
    "        if not root:\n",
    "            return False\n",
    "        if not root.left and not root.right:\n",
    "            return root.val == sum\n",
    "        return self.hasPathSum(root.left, sum-root.val) or self.hasPathSum(root.right, sum-root.val)\n",
    "        "
   ]
  },
  {
   "cell_type": "code",
   "execution_count": 12,
   "metadata": {},
   "outputs": [],
   "source": [
    "# 非递归 （利用队列实现）\n",
    "class Solution:\n",
    "    def hasPathSum(self, root: TreeNode, sum: int) -> bool:\n",
    "        if not root:\n",
    "            return False\n",
    "        que_node = [root]\n",
    "        que_val = [root.val]\n",
    "        while que_node and que_val:\n",
    "            # 弹出 node 和 val\n",
    "            cur_node = que_node.pop(0)\n",
    "            cur_val = que_val.pop(0)\n",
    "            # 如果node是叶节点，返回结果\n",
    "            if isLeaf(cur_node) and cur_val == sum:\n",
    "                return True\n",
    "            # 添加子节点\n",
    "            if cur_node.left:\n",
    "                que_node.append(cur_node.left)\n",
    "                que_val.append(cur_val + cur_node.left.val)\n",
    "            if cur_node.right:\n",
    "                que_node.append(cur_node.right)\n",
    "                que_val.append(cur_val + cur_node.right.val)\n",
    "        return False           \n",
    "            \n",
    "def isLeaf(root):\n",
    "    return root and not root.left and not root.right\n",
    "        "
   ]
  },
  {
   "cell_type": "markdown",
   "metadata": {},
   "source": [
    "106. 从中序遍历和后序遍历序列构造二叉树"
   ]
  },
  {
   "cell_type": "code",
   "execution_count": 13,
   "metadata": {},
   "outputs": [],
   "source": [
    "# 初始版本\n",
    "# 利用了python的一些特性，但效果不是很好\n",
    "class Solution:\n",
    "    def buildTree(self, inorder: List[int], postorder: List[int]) -> TreeNode:\n",
    "        if not inorder:\n",
    "            return\n",
    "        if len(inorder) == 1:\n",
    "            return TreeNode(inorder[0])\n",
    "            \n",
    "        # 根据后序得到根节点的值和根节点在中序中的位置\n",
    "        root_val = postorder[-1]\n",
    "        in_root_index = inorder.index(root_val)\n",
    "        # 以根节点为分隔，得到左子树和右子树的中序遍历和后序遍历\n",
    "        in_left = inorder[:in_root_index]\n",
    "        in_right = inorder[in_root_index+1:]\n",
    "        l1 = len(in_left)\n",
    "        l2 = len(in_right)\n",
    "        post_left = postorder[:l1]\n",
    "        post_right = postorder[l1: l1+l2]\n",
    "\n",
    "        # 递归得到结果\n",
    "        root = TreeNode(root_val)\n",
    "        root.left = self.buildTree(in_left, post_left)\n",
    "        root.right = self.buildTree(in_right, post_right)\n",
    "\n",
    "        return root"
   ]
  },
  {
   "cell_type": "code",
   "execution_count": 13,
   "metadata": {},
   "outputs": [
    {
     "ename": "NameError",
     "evalue": "name 'List' is not defined",
     "output_type": "error",
     "traceback": [
      "\u001b[0;31m---------------------------------------------------------------------------\u001b[0m",
      "\u001b[0;31mNameError\u001b[0m                                 Traceback (most recent call last)",
      "\u001b[0;32m<ipython-input-13-da5e12acee55>\u001b[0m in \u001b[0;36m<module>\u001b[0;34m\u001b[0m\n\u001b[1;32m      1\u001b[0m \u001b[0;31m# 初始版本\u001b[0m\u001b[0;34m\u001b[0m\u001b[0;34m\u001b[0m\u001b[0;34m\u001b[0m\u001b[0m\n\u001b[1;32m      2\u001b[0m \u001b[0;31m# 利用了python的一些特性，但效果不是很好\u001b[0m\u001b[0;34m\u001b[0m\u001b[0;34m\u001b[0m\u001b[0;34m\u001b[0m\u001b[0m\n\u001b[0;32m----> 3\u001b[0;31m \u001b[0;32mclass\u001b[0m \u001b[0mSolution\u001b[0m\u001b[0;34m:\u001b[0m\u001b[0;34m\u001b[0m\u001b[0;34m\u001b[0m\u001b[0m\n\u001b[0m\u001b[1;32m      4\u001b[0m     \u001b[0;32mdef\u001b[0m \u001b[0mbuildTree\u001b[0m\u001b[0;34m(\u001b[0m\u001b[0mself\u001b[0m\u001b[0;34m,\u001b[0m \u001b[0minorder\u001b[0m\u001b[0;34m:\u001b[0m \u001b[0mList\u001b[0m\u001b[0;34m[\u001b[0m\u001b[0mint\u001b[0m\u001b[0;34m]\u001b[0m\u001b[0;34m,\u001b[0m \u001b[0mpostorder\u001b[0m\u001b[0;34m:\u001b[0m \u001b[0mList\u001b[0m\u001b[0;34m[\u001b[0m\u001b[0mint\u001b[0m\u001b[0;34m]\u001b[0m\u001b[0;34m)\u001b[0m \u001b[0;34m->\u001b[0m \u001b[0mTreeNode\u001b[0m\u001b[0;34m:\u001b[0m\u001b[0;34m\u001b[0m\u001b[0;34m\u001b[0m\u001b[0m\n\u001b[1;32m      5\u001b[0m         \u001b[0;32mif\u001b[0m \u001b[0;32mnot\u001b[0m \u001b[0minorder\u001b[0m\u001b[0;34m:\u001b[0m\u001b[0;34m\u001b[0m\u001b[0;34m\u001b[0m\u001b[0m\n",
      "\u001b[0;32m<ipython-input-13-da5e12acee55>\u001b[0m in \u001b[0;36mSolution\u001b[0;34m()\u001b[0m\n\u001b[1;32m      2\u001b[0m \u001b[0;31m# 利用了python的一些特性，但效果不是很好\u001b[0m\u001b[0;34m\u001b[0m\u001b[0;34m\u001b[0m\u001b[0;34m\u001b[0m\u001b[0m\n\u001b[1;32m      3\u001b[0m \u001b[0;32mclass\u001b[0m \u001b[0mSolution\u001b[0m\u001b[0;34m:\u001b[0m\u001b[0;34m\u001b[0m\u001b[0;34m\u001b[0m\u001b[0m\n\u001b[0;32m----> 4\u001b[0;31m     \u001b[0;32mdef\u001b[0m \u001b[0mbuildTree\u001b[0m\u001b[0;34m(\u001b[0m\u001b[0mself\u001b[0m\u001b[0;34m,\u001b[0m \u001b[0minorder\u001b[0m\u001b[0;34m:\u001b[0m \u001b[0mList\u001b[0m\u001b[0;34m[\u001b[0m\u001b[0mint\u001b[0m\u001b[0;34m]\u001b[0m\u001b[0;34m,\u001b[0m \u001b[0mpostorder\u001b[0m\u001b[0;34m:\u001b[0m \u001b[0mList\u001b[0m\u001b[0;34m[\u001b[0m\u001b[0mint\u001b[0m\u001b[0;34m]\u001b[0m\u001b[0;34m)\u001b[0m \u001b[0;34m->\u001b[0m \u001b[0mTreeNode\u001b[0m\u001b[0;34m:\u001b[0m\u001b[0;34m\u001b[0m\u001b[0;34m\u001b[0m\u001b[0m\n\u001b[0m\u001b[1;32m      5\u001b[0m         \u001b[0;32mif\u001b[0m \u001b[0;32mnot\u001b[0m \u001b[0minorder\u001b[0m\u001b[0;34m:\u001b[0m\u001b[0;34m\u001b[0m\u001b[0;34m\u001b[0m\u001b[0m\n\u001b[1;32m      6\u001b[0m             \u001b[0;32mreturn\u001b[0m\u001b[0;34m\u001b[0m\u001b[0;34m\u001b[0m\u001b[0m\n",
      "\u001b[0;31mNameError\u001b[0m: name 'List' is not defined"
     ]
    }
   ],
   "source": [
    "# 同样的思路，效果更好，注意看注释\n",
    "class Solution:\n",
    "    def buildTree(self, inorder: List[int], postorder: List[int]) -> TreeNode:\n",
    "        def travesal(in_left, in_right):\n",
    "            # in_left, in_right表示当前inorder在原始inorder上面的区间索引\n",
    "            # 初始入口为 travesal(0, n-1)\n",
    "\n",
    "            # 停止条件1 None\n",
    "            if in_left > in_right:\n",
    "                return None\n",
    "            \n",
    "            \n",
    "            root = TreeNode(postorder.pop()) # 此时后序弹出最后一个元素为根节点\n",
    "            index_root = indexmap[root.val] # 找到根节点在中序中索引作为切割点\n",
    "            \n",
    "            # 以根节点索引为切割点，左边是左子树的中序遍历， 右边是右子树的中序遍历,进行递归\n",
    "            # 注意这里一定要先构建右子树，因为每递归一次，后序就会弹出最后一个元素\n",
    "            # 根据后序的左右中顺序，这个弹出的元素总会是当前根节点的右子树的根节点\n",
    "            root.right = travesal(index_root+1, in_right)\n",
    "            root.left = travesal(in_left, index_root-1)\n",
    "            \n",
    "\n",
    "            return root\n",
    "\n",
    "        # 构建中序遍历的索引值哈希表，这一步是为了减少每次查询根节点位置时候的时间\n",
    "        indexmap = {value:index for index, value in enumerate(inorder)}\n",
    "        return travesal(0, len(inorder)-1)"
   ]
  },
  {
   "cell_type": "markdown",
   "metadata": {},
   "source": [
    "105. 利用中序遍历和前序遍历序列构造二叉树"
   ]
  },
  {
   "cell_type": "code",
   "execution_count": 14,
   "metadata": {},
   "outputs": [
    {
     "ename": "NameError",
     "evalue": "name 'List' is not defined",
     "output_type": "error",
     "traceback": [
      "\u001b[0;31m---------------------------------------------------------------------------\u001b[0m",
      "\u001b[0;31mNameError\u001b[0m                                 Traceback (most recent call last)",
      "\u001b[0;32m<ipython-input-14-726edf9ce90d>\u001b[0m in \u001b[0;36m<module>\u001b[0;34m\u001b[0m\n\u001b[1;32m      1\u001b[0m \u001b[0;31m# 思路相同，但是效果更好，注意看注释\u001b[0m\u001b[0;34m\u001b[0m\u001b[0;34m\u001b[0m\u001b[0;34m\u001b[0m\u001b[0m\n\u001b[0;32m----> 2\u001b[0;31m \u001b[0;32mclass\u001b[0m \u001b[0mSolution\u001b[0m\u001b[0;34m:\u001b[0m\u001b[0;34m\u001b[0m\u001b[0;34m\u001b[0m\u001b[0m\n\u001b[0m\u001b[1;32m      3\u001b[0m     \u001b[0;32mdef\u001b[0m \u001b[0mbuildTree\u001b[0m\u001b[0;34m(\u001b[0m\u001b[0mself\u001b[0m\u001b[0;34m,\u001b[0m \u001b[0minorder\u001b[0m\u001b[0;34m:\u001b[0m \u001b[0mList\u001b[0m\u001b[0;34m[\u001b[0m\u001b[0mint\u001b[0m\u001b[0;34m]\u001b[0m\u001b[0;34m,\u001b[0m \u001b[0mpostorder\u001b[0m\u001b[0;34m:\u001b[0m \u001b[0mList\u001b[0m\u001b[0;34m[\u001b[0m\u001b[0mint\u001b[0m\u001b[0;34m]\u001b[0m\u001b[0;34m)\u001b[0m \u001b[0;34m->\u001b[0m \u001b[0mTreeNode\u001b[0m\u001b[0;34m:\u001b[0m\u001b[0;34m\u001b[0m\u001b[0;34m\u001b[0m\u001b[0m\n\u001b[1;32m      4\u001b[0m         \u001b[0;32mdef\u001b[0m \u001b[0mtravesal\u001b[0m\u001b[0;34m(\u001b[0m\u001b[0min_left\u001b[0m\u001b[0;34m,\u001b[0m \u001b[0min_right\u001b[0m\u001b[0;34m)\u001b[0m\u001b[0;34m:\u001b[0m\u001b[0;34m\u001b[0m\u001b[0;34m\u001b[0m\u001b[0m\n\u001b[1;32m      5\u001b[0m             \u001b[0;31m# in_left, in_right表示当前inorder在原始inorder上面的区间索引\u001b[0m\u001b[0;34m\u001b[0m\u001b[0;34m\u001b[0m\u001b[0;34m\u001b[0m\u001b[0m\n",
      "\u001b[0;32m<ipython-input-14-726edf9ce90d>\u001b[0m in \u001b[0;36mSolution\u001b[0;34m()\u001b[0m\n\u001b[1;32m      1\u001b[0m \u001b[0;31m# 思路相同，但是效果更好，注意看注释\u001b[0m\u001b[0;34m\u001b[0m\u001b[0;34m\u001b[0m\u001b[0;34m\u001b[0m\u001b[0m\n\u001b[1;32m      2\u001b[0m \u001b[0;32mclass\u001b[0m \u001b[0mSolution\u001b[0m\u001b[0;34m:\u001b[0m\u001b[0;34m\u001b[0m\u001b[0;34m\u001b[0m\u001b[0m\n\u001b[0;32m----> 3\u001b[0;31m     \u001b[0;32mdef\u001b[0m \u001b[0mbuildTree\u001b[0m\u001b[0;34m(\u001b[0m\u001b[0mself\u001b[0m\u001b[0;34m,\u001b[0m \u001b[0minorder\u001b[0m\u001b[0;34m:\u001b[0m \u001b[0mList\u001b[0m\u001b[0;34m[\u001b[0m\u001b[0mint\u001b[0m\u001b[0;34m]\u001b[0m\u001b[0;34m,\u001b[0m \u001b[0mpostorder\u001b[0m\u001b[0;34m:\u001b[0m \u001b[0mList\u001b[0m\u001b[0;34m[\u001b[0m\u001b[0mint\u001b[0m\u001b[0;34m]\u001b[0m\u001b[0;34m)\u001b[0m \u001b[0;34m->\u001b[0m \u001b[0mTreeNode\u001b[0m\u001b[0;34m:\u001b[0m\u001b[0;34m\u001b[0m\u001b[0;34m\u001b[0m\u001b[0m\n\u001b[0m\u001b[1;32m      4\u001b[0m         \u001b[0;32mdef\u001b[0m \u001b[0mtravesal\u001b[0m\u001b[0;34m(\u001b[0m\u001b[0min_left\u001b[0m\u001b[0;34m,\u001b[0m \u001b[0min_right\u001b[0m\u001b[0;34m)\u001b[0m\u001b[0;34m:\u001b[0m\u001b[0;34m\u001b[0m\u001b[0;34m\u001b[0m\u001b[0m\n\u001b[1;32m      5\u001b[0m             \u001b[0;31m# in_left, in_right表示当前inorder在原始inorder上面的区间索引\u001b[0m\u001b[0;34m\u001b[0m\u001b[0;34m\u001b[0m\u001b[0;34m\u001b[0m\u001b[0m\n",
      "\u001b[0;31mNameError\u001b[0m: name 'List' is not defined"
     ]
    }
   ],
   "source": [
    "class Solution:\n",
    "    def buildTree(self, inorder: List[int], postorder: List[int]) -> TreeNode:\n",
    "        def travesal(in_left, in_right):\n",
    "            # in_left, in_right表示当前inorder在原始inorder上面的区间索引\n",
    "            # 初始入口为 travesal(0, n-1)\n",
    "\n",
    "            # 停止条件1 None\n",
    "            if in_left > in_right:\n",
    "                return None\n",
    "            \n",
    "            root = TreeNode(postorder.pop()) # 此时后序弹出最后一个元素为根节点\n",
    "            index_root = indexmap[root.val] # 找到根节点在中序中索引作为切割点\n",
    "            \n",
    "            # 以根节点索引为切割点，左边是左子树的中序遍历， 右边是右子树的中序遍历,进行递归\n",
    "            # 注意这里一定要先构建右子树，因为每递归一次，后序就会弹出最后一个元素\n",
    "            # 根据后序的左右中顺序，这个弹出的元素总会是当前根节点的右子树的根节点\n",
    "            root.right = travesal(index_root+1, in_right)\n",
    "            root.left = travesal(in_left, index_root-1)\n",
    "            \n",
    "            return root\n",
    "\n",
    "        # 构建中序遍历的索引值哈希表，这一步是为了减少每次查询根节点位置时候的时间\n",
    "        indexmap = {value:index for index, value in enumerate(inorder)}\n",
    "        return travesal(0, len(inorder)-1)"
   ]
  },
  {
   "cell_type": "code",
   "execution_count": null,
   "metadata": {},
   "outputs": [],
   "source": []
  }
 ],
 "metadata": {
  "kernelspec": {
   "display_name": "Python 3",
   "language": "python",
   "name": "python3"
  },
  "language_info": {
   "codemirror_mode": {
    "name": "ipython",
    "version": 3
   },
   "file_extension": ".py",
   "mimetype": "text/x-python",
   "name": "python",
   "nbconvert_exporter": "python",
   "pygments_lexer": "ipython3",
   "version": "3.7.1"
  }
 },
 "nbformat": 4,
 "nbformat_minor": 4
}
