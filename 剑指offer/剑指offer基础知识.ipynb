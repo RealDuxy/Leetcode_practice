{
 "cells": [
  {
   "cell_type": "code",
   "execution_count": 42,
   "metadata": {},
   "outputs": [
    {
     "name": "stdout",
     "output_type": "stream",
     "text": [
      "[3, 2, 4, 1, 0, 2, 5] 1 1\n",
      "[3, 2, 4, 1, 0, 2, 5]\n",
      "[3, 2, 4, 1, 0, 2, 5] 2 3\n",
      "[3, 2, 1, 4, 0, 2, 5]\n",
      "[3, 2, 1, 4, 0, 2, 5] 3 4\n",
      "[3, 2, 1, 0, 4, 2, 5]\n",
      "[3, 2, 1, 0, 4, 2, 5] 4 5\n",
      "[3, 2, 1, 0, 2, 4, 5]\n",
      "[2, 2, 1, 0, 3, 4, 5] 1 1\n",
      "[2, 2, 1, 0, 3, 4, 5]\n",
      "[2, 2, 1, 0, 3, 4, 5] 2 2\n",
      "[2, 2, 1, 0, 3, 4, 5]\n"
     ]
    },
    {
     "data": {
      "text/plain": [
       "[1, 2, 2, 0, 3, 4, 5]"
      ]
     },
     "execution_count": 42,
     "metadata": {},
     "output_type": "execute_result"
    }
   ],
   "source": [
    "# 快速排序\n",
    "def quick_sort(array, l, r):\n",
    "    if l < r:\n",
    "        q = partition(array, l, r)\n",
    "        quick_sort(array, l, q - 1)\n",
    "        quick_sort(array, q + 1, r)\n",
    "        \n",
    "\n",
    "def partition(array, l, r):\n",
    "    pivot = array[l]\n",
    "    low = l\n",
    "    for i in range(l+1,r):\n",
    "        if array[i] <= pivot:\n",
    "            low += 1\n",
    "            print(array,low,i)\n",
    "            array[low],array[i] = array[i], array[low]\n",
    "            print(array)\n",
    "    array[low], array[l] = array[l], array[low]\n",
    "    return low\n",
    "\n",
    "a = [3,2,4,1,0,2,5]\n",
    "quick_sort(a,0,7)\n",
    "a"
   ]
  },
  {
   "cell_type": "code",
   "execution_count": null,
   "metadata": {},
   "outputs": [],
   "source": []
  }
 ],
 "metadata": {
  "kernelspec": {
   "display_name": "Python 3",
   "language": "python",
   "name": "python3"
  },
  "language_info": {
   "codemirror_mode": {
    "name": "ipython",
    "version": 3
   },
   "file_extension": ".py",
   "mimetype": "text/x-python",
   "name": "python",
   "nbconvert_exporter": "python",
   "pygments_lexer": "ipython3",
   "version": "3.7.1"
  }
 },
 "nbformat": 4,
 "nbformat_minor": 4
}
